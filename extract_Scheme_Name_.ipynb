{
  "nbformat": 4,
  "nbformat_minor": 0,
  "metadata": {
    "colab": {
      "provenance": []
    },
    "kernelspec": {
      "name": "python3",
      "display_name": "Python 3"
    },
    "language_info": {
      "name": "python"
    }
  },
  "cells": [
    {
      "cell_type": "code",
      "execution_count": 3,
      "metadata": {
        "colab": {
          "base_uri": "https://localhost:8080/"
        },
        "id": "F8nYHL7GojO0",
        "outputId": "44b59afd-64a3-4e0d-d859-4cb5879c8e3e"
      },
      "outputs": [
        {
          "output_type": "stream",
          "name": "stdout",
          "text": [
            "Scheme Code;ISIN Div Payout/ ISIN Growth;ISIN Div Reinvestment;Scheme Name;Net Asset Value;Date\r\n",
            " \r\n",
            "Open Ended Schemes(Debt Scheme - Banking and PSU Fund)\r\n",
            " \r\n",
            "Aditya Birla Sun Life Mutual Fund\r\n",
            " \r\n",
            "119551;INF209KA12Z1;INF209KA13Z9;Aditya Birla Sun Life Banking & PSU Debt Fund  - DIRECT - IDCW;107.0688;16-May-2025\r\n",
            "119552;INF209K01YM2;-;Aditya Birla Sun Life Banking & PSU Debt Fund  - DIRECT - MONTHLY IDCW;118.209;16-May-2025\r\n",
            "119553;INF209K01YO8;-;Aditya Birla Sun Life Banking & PSU Debt Fund  - Direct - Quarterly IDCW;105.9072;16-May-2025\r\n",
            "108272;INF209K01LX6;INF209KA11Z3;Aditya Birla Sun Life Banking & PSU Debt Fund  - REGULAR - IDCW;150.4645;16-May-2025\r\n"
          ]
        }
      ],
      "source": [
        "# Step 1: Download the NAVAll.txt file from AMFI\n",
        "!curl -s https://www.amfiindia.com/spages/NAVAll.txt -o NAVAll.txt\n",
        "\n",
        "# Check if it's downloaded\n",
        "!head -n 10 NAVAll.txt\n"
      ]
    },
    {
      "cell_type": "code",
      "source": [
        "# Step 2: Extract Scheme Name and NAV (Net Asset Value) using awk\n",
        "!awk -F ';' 'NR > 1 && NF >= 5 { print $4 \"\\t\" $5 }' NAVAll.txt > scheme_nav.tsv\n",
        "\n",
        "# Preview the output TSV\n",
        "!head scheme_nav.tsv\n"
      ],
      "metadata": {
        "colab": {
          "base_uri": "https://localhost:8080/"
        },
        "id": "NSa4a7axop8H",
        "outputId": "ee600f2a-58f0-4af0-ba90-8505b2c4bdc7"
      },
      "execution_count": 4,
      "outputs": [
        {
          "output_type": "stream",
          "name": "stdout",
          "text": [
            "Aditya Birla Sun Life Banking & PSU Debt Fund  - DIRECT - IDCW\t107.0688\n",
            "Aditya Birla Sun Life Banking & PSU Debt Fund  - DIRECT - MONTHLY IDCW\t118.209\n",
            "Aditya Birla Sun Life Banking & PSU Debt Fund  - Direct - Quarterly IDCW\t105.9072\n",
            "Aditya Birla Sun Life Banking & PSU Debt Fund  - REGULAR - IDCW\t150.4645\n",
            "Aditya Birla Sun Life Banking & PSU Debt Fund  - REGULAR - MONTHLY IDCW\t114.0428\n",
            "Aditya Birla Sun Life Banking & PSU Debt Fund  - REGULAR - Quarterly IDCW\t103.8869\n",
            "Aditya Birla Sun Life Banking & PSU Debt Fund  - retail - monthly IDCW\t113.8205\n",
            "Aditya Birla Sun Life Banking & PSU Debt Fund  - retail - quarterly IDCW\t105.0038\n",
            "Aditya Birla Sun Life Banking & PSU Debt Fund - Regular Plan-Growth\t366.3157\n",
            "Aditya Birla Sun Life Banking & PSU Debt Fund - Retail Plan-Growth\t549.889\n"
          ]
        }
      ]
    },
    {
      "cell_type": "markdown",
      "source": [
        "###Convert to JSON"
      ],
      "metadata": {
        "id": "loHodaEapVPT"
      }
    },
    {
      "cell_type": "code",
      "source": [
        "import pandas as pd\n",
        "\n",
        "# Read the TSV into a DataFrame\n",
        "df = pd.read_csv(\"scheme_nav.tsv\", sep=\"\\t\", names=[\"Scheme Name\", \"Net Asset Value\"])\n",
        "\n",
        "# Convert to JSON (line-separated JSON format)\n",
        "json_data = df.to_json(orient=\"records\", lines=True)\n",
        "\n",
        "# Save to file\n",
        "with open(\"scheme_nav.json\", \"w\") as f:\n",
        "    f.write(json_data)\n",
        "\n",
        "# Preview first 2 lines\n",
        "print(\"\\n\".join(json_data.splitlines()[:2]))\n"
      ],
      "metadata": {
        "colab": {
          "base_uri": "https://localhost:8080/"
        },
        "id": "hCghnLVGpOXb",
        "outputId": "69492ea0-d3c9-4572-bffa-a2294cb44e7c"
      },
      "execution_count": 5,
      "outputs": [
        {
          "output_type": "stream",
          "name": "stdout",
          "text": [
            "{\"Scheme Name\":\"Aditya Birla Sun Life Banking & PSU Debt Fund  - DIRECT - IDCW\",\"Net Asset Value\":\"107.0688\"}\n",
            "{\"Scheme Name\":\"Aditya Birla Sun Life Banking & PSU Debt Fund  - DIRECT - MONTHLY IDCW\",\"Net Asset Value\":\"118.209\"}\n"
          ]
        }
      ]
    },
    {
      "cell_type": "code",
      "source": [
        "from google.colab import files\n",
        "files.download(\"scheme_nav.tsv\")  # for TSV\n",
        "# files.download(\"scheme_nav.json\")  # for JSON (optional)\n"
      ],
      "metadata": {
        "colab": {
          "base_uri": "https://localhost:8080/",
          "height": 17
        },
        "id": "dHygXcNSpX7U",
        "outputId": "bc5d2d3f-222b-41f5-d838-c16edb7d87da"
      },
      "execution_count": 6,
      "outputs": [
        {
          "output_type": "display_data",
          "data": {
            "text/plain": [
              "<IPython.core.display.Javascript object>"
            ],
            "application/javascript": [
              "\n",
              "    async function download(id, filename, size) {\n",
              "      if (!google.colab.kernel.accessAllowed) {\n",
              "        return;\n",
              "      }\n",
              "      const div = document.createElement('div');\n",
              "      const label = document.createElement('label');\n",
              "      label.textContent = `Downloading \"${filename}\": `;\n",
              "      div.appendChild(label);\n",
              "      const progress = document.createElement('progress');\n",
              "      progress.max = size;\n",
              "      div.appendChild(progress);\n",
              "      document.body.appendChild(div);\n",
              "\n",
              "      const buffers = [];\n",
              "      let downloaded = 0;\n",
              "\n",
              "      const channel = await google.colab.kernel.comms.open(id);\n",
              "      // Send a message to notify the kernel that we're ready.\n",
              "      channel.send({})\n",
              "\n",
              "      for await (const message of channel.messages) {\n",
              "        // Send a message to notify the kernel that we're ready.\n",
              "        channel.send({})\n",
              "        if (message.buffers) {\n",
              "          for (const buffer of message.buffers) {\n",
              "            buffers.push(buffer);\n",
              "            downloaded += buffer.byteLength;\n",
              "            progress.value = downloaded;\n",
              "          }\n",
              "        }\n",
              "      }\n",
              "      const blob = new Blob(buffers, {type: 'application/binary'});\n",
              "      const a = document.createElement('a');\n",
              "      a.href = window.URL.createObjectURL(blob);\n",
              "      a.download = filename;\n",
              "      div.appendChild(a);\n",
              "      a.click();\n",
              "      div.remove();\n",
              "    }\n",
              "  "
            ]
          },
          "metadata": {}
        },
        {
          "output_type": "display_data",
          "data": {
            "text/plain": [
              "<IPython.core.display.Javascript object>"
            ],
            "application/javascript": [
              "download(\"download_90f71dd4-ec90-4f64-ad4c-1ec8b49484c4\", \"scheme_nav.tsv\", 1075116)"
            ]
          },
          "metadata": {}
        }
      ]
    },
    {
      "cell_type": "code",
      "source": [],
      "metadata": {
        "id": "Ynblpt8Tpcq7"
      },
      "execution_count": null,
      "outputs": []
    }
  ]
}